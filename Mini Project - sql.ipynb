{
 "cells": [
  {
   "cell_type": "code",
   "execution_count": 28,
   "id": "c4c127ce",
   "metadata": {},
   "outputs": [
    {
     "name": "stdout",
     "output_type": "stream",
     "text": [
      "Requirement already satisfied: pyspark==3.2.3 in c:\\users\\rajkumar\\anaconda3\\lib\\site-packages (3.2.3)\n",
      "Requirement already satisfied: py4j==0.10.9.5 in c:\\users\\rajkumar\\anaconda3\\lib\\site-packages (from pyspark==3.2.3) (0.10.9.5)\n",
      "Note: you may need to restart the kernel to use updated packages.\n"
     ]
    }
   ],
   "source": [
    "pip install pyspark==3.2.3\n"
   ]
  },
  {
   "cell_type": "code",
   "execution_count": 29,
   "id": "4ea7b8f6",
   "metadata": {},
   "outputs": [],
   "source": [
    "from pyspark.sql import SparkSession\n"
   ]
  },
  {
   "cell_type": "code",
   "execution_count": 31,
   "id": "33f3db2c",
   "metadata": {},
   "outputs": [],
   "source": [
    "#Load data and create Spark data frame \n",
    "\n",
    "# Create SparkSession \n",
    "spark = SparkSession.builder \\\n",
    "      .master(\"local[1]\") \\\n",
    "      .appName(\"market_analysis\") \\\n",
    "      .getOrCreate()"
   ]
  },
  {
   "cell_type": "code",
   "execution_count": 6,
   "id": "76f2faef",
   "metadata": {},
   "outputs": [
    {
     "name": "stdout",
     "output_type": "stream",
     "text": [
      "root\n",
      " |-- age: string (nullable = true)\n",
      " |-- job: string (nullable = true)\n",
      " |-- marital: string (nullable = true)\n",
      " |-- education: string (nullable = true)\n",
      " |-- default: string (nullable = true)\n",
      " |-- balance: string (nullable = true)\n",
      " |-- housing: string (nullable = true)\n",
      " |-- loan: string (nullable = true)\n",
      " |-- contact: string (nullable = true)\n",
      " |-- day: string (nullable = true)\n",
      " |-- month: string (nullable = true)\n",
      " |-- duration: string (nullable = true)\n",
      " |-- campaign: string (nullable = true)\n",
      " |-- pdays: string (nullable = true)\n",
      " |-- previous: string (nullable = true)\n",
      " |-- poutcome: string (nullable = true)\n",
      " |-- y: string (nullable = true)\n",
      "\n"
     ]
    }
   ],
   "source": [
    "#Give marketing success rate. \n",
    "df = spark.read.csv(\"Capstone market analysis (4).csv\", header = True)\n",
    "df.printSchema()\n"
   ]
  },
  {
   "cell_type": "code",
   "execution_count": 7,
   "id": "fa4b0950",
   "metadata": {},
   "outputs": [
    {
     "name": "stdout",
     "output_type": "stream",
     "text": [
      "+---+------------+--------+---------+-------+-------+-------+----+-------+---+-----+--------+--------+-----+--------+--------+---+\n",
      "|age|         job| marital|education|default|balance|housing|loan|contact|day|month|duration|campaign|pdays|previous|poutcome|  y|\n",
      "+---+------------+--------+---------+-------+-------+-------+----+-------+---+-----+--------+--------+-----+--------+--------+---+\n",
      "| 58|  management| married| tertiary|     no|   2143|    yes|  no|unknown|  5|  may|     261|       1|   -1|       0| unknown| no|\n",
      "| 44|  technician|  single|secondary|     no|     29|    yes|  no|unknown|  5|  may|     151|       1|   -1|       0| unknown| no|\n",
      "| 33|entrepreneur| married|secondary|     no|      2|    yes| yes|unknown|  5|  may|      76|       1|   -1|       0| unknown| no|\n",
      "| 47| blue-collar| married|  unknown|     no|   1506|    yes|  no|unknown|  5|  may|      92|       1|   -1|       0| unknown| no|\n",
      "| 33|     unknown|  single|  unknown|     no|      1|     no|  no|unknown|  5|  may|     198|       1|   -1|       0| unknown| no|\n",
      "| 35|  management| married| tertiary|     no|    231|    yes|  no|unknown|  5|  may|     139|       1|   -1|       0| unknown| no|\n",
      "| 28|  management|  single| tertiary|     no|    447|    yes| yes|unknown|  5|  may|     217|       1|   -1|       0| unknown| no|\n",
      "| 42|entrepreneur|divorced| tertiary|    yes|      2|    yes|  no|unknown|  5|  may|     380|       1|   -1|       0| unknown| no|\n",
      "| 58|     retired| married|  primary|     no|    121|    yes|  no|unknown|  5|  may|      50|       1|   -1|       0| unknown| no|\n",
      "| 43|  technician|  single|secondary|     no|    593|    yes|  no|unknown|  5|  may|      55|       1|   -1|       0| unknown| no|\n",
      "| 41|      admin.|divorced|secondary|     no|    270|    yes|  no|unknown|  5|  may|     222|       1|   -1|       0| unknown| no|\n",
      "| 29|      admin.|  single|secondary|     no|    390|    yes|  no|unknown|  5|  may|     137|       1|   -1|       0| unknown| no|\n",
      "| 53|  technician| married|secondary|     no|      6|    yes|  no|unknown|  5|  may|     517|       1|   -1|       0| unknown| no|\n",
      "| 58|  technician| married|  unknown|     no|     71|    yes|  no|unknown|  5|  may|      71|       1|   -1|       0| unknown| no|\n",
      "| 57|    services| married|secondary|     no|    162|    yes|  no|unknown|  5|  may|     174|       1|   -1|       0| unknown| no|\n",
      "| 51|     retired| married|  primary|     no|    229|    yes|  no|unknown|  5|  may|     353|       1|   -1|       0| unknown| no|\n",
      "| 45|      admin.|  single|  unknown|     no|     13|    yes|  no|unknown|  5|  may|      98|       1|   -1|       0| unknown| no|\n",
      "| 57| blue-collar| married|  primary|     no|     52|    yes|  no|unknown|  5|  may|      38|       1|   -1|       0| unknown| no|\n",
      "| 60|     retired| married|  primary|     no|     60|    yes|  no|unknown|  5|  may|     219|       1|   -1|       0| unknown| no|\n",
      "| 33|    services| married|secondary|     no|      0|    yes|  no|unknown|  5|  may|      54|       1|   -1|       0| unknown| no|\n",
      "+---+------------+--------+---------+-------+-------+-------+----+-------+---+-----+--------+--------+-----+--------+--------+---+\n",
      "only showing top 20 rows\n",
      "\n"
     ]
    }
   ],
   "source": [
    "df.show()"
   ]
  },
  {
   "cell_type": "code",
   "execution_count": 8,
   "id": "dc148bde",
   "metadata": {},
   "outputs": [
    {
     "name": "stdout",
     "output_type": "stream",
     "text": [
      "root\n",
      " |-- age: string (nullable = true)\n",
      " |-- job: string (nullable = true)\n",
      " |-- marital: string (nullable = true)\n",
      " |-- education: string (nullable = true)\n",
      " |-- default: string (nullable = true)\n",
      " |-- balance: string (nullable = true)\n",
      " |-- housing: string (nullable = true)\n",
      " |-- loan: string (nullable = true)\n",
      " |-- contact: string (nullable = true)\n",
      " |-- day: string (nullable = true)\n",
      " |-- month: string (nullable = true)\n",
      " |-- duration: string (nullable = true)\n",
      " |-- campaign: string (nullable = true)\n",
      " |-- pdays: string (nullable = true)\n",
      " |-- previous: string (nullable = true)\n",
      " |-- poutcome: string (nullable = true)\n",
      " |-- y: string (nullable = true)\n",
      "\n"
     ]
    }
   ],
   "source": [
    "df.createOrReplaceTempView(\"bank\")\n",
    "df.printSchema()"
   ]
  },
  {
   "cell_type": "code",
   "execution_count": 9,
   "id": "b01f5ccf",
   "metadata": {},
   "outputs": [
    {
     "name": "stdout",
     "output_type": "stream",
     "text": [
      "+--------+\n",
      "|count(1)|\n",
      "+--------+\n",
      "|   45211|\n",
      "+--------+\n",
      "\n"
     ]
    }
   ],
   "source": [
    "df1 = spark.sql(\"select count(*) from bank\")\n",
    "df1.show()"
   ]
  },
  {
   "cell_type": "code",
   "execution_count": 10,
   "id": "f92a0e8b",
   "metadata": {},
   "outputs": [
    {
     "name": "stdout",
     "output_type": "stream",
     "text": [
      "+----------+\n",
      "|subscribed|\n",
      "+----------+\n",
      "|      5289|\n",
      "+----------+\n",
      "\n",
      "+-----+\n",
      "|total|\n",
      "+-----+\n",
      "|45211|\n",
      "+-----+\n",
      "\n"
     ]
    }
   ],
   "source": [
    "df2 = spark.sql(\"select count(*) as subscribed from bank where y = 'yes'\")\n",
    "df2.show()\n",
    "df14 = spark.sql(\"select count(*) as total from bank\")\n",
    "df14.show() \n"
   ]
  },
  {
   "cell_type": "code",
   "execution_count": 11,
   "id": "0eb3a340",
   "metadata": {},
   "outputs": [],
   "source": [
    "df2.createOrReplaceTempView(\"a\")"
   ]
  },
  {
   "cell_type": "code",
   "execution_count": 12,
   "id": "c103c628",
   "metadata": {},
   "outputs": [],
   "source": [
    "df14.createOrReplaceTempView(\"b\")"
   ]
  },
  {
   "cell_type": "code",
   "execution_count": 13,
   "id": "cfca5897",
   "metadata": {},
   "outputs": [
    {
     "name": "stdout",
     "output_type": "stream",
     "text": [
      "+------------------+\n",
      "|   success_percent|\n",
      "+------------------+\n",
      "|11.698480458295547|\n",
      "+------------------+\n",
      "\n"
     ]
    }
   ],
   "source": [
    "df_final = spark.sql(\"select (s.subscribed/t.total)*100 as success_percent from a s join b t \")\n",
    "df_final.show()"
   ]
  },
  {
   "cell_type": "code",
   "execution_count": 14,
   "id": "b9691968",
   "metadata": {},
   "outputs": [
    {
     "name": "stdout",
     "output_type": "stream",
     "text": [
      "+--------------+\n",
      "|not_subscribed|\n",
      "+--------------+\n",
      "|         39922|\n",
      "+--------------+\n",
      "\n"
     ]
    }
   ],
   "source": [
    "df_a = spark.sql(\"select count(*) as not_subscribed from bank where y='no'\")\n",
    "df_a.show()\n",
    "df_a.createOrReplaceTempView(\"not\")"
   ]
  },
  {
   "cell_type": "code",
   "execution_count": 15,
   "id": "79f023db",
   "metadata": {},
   "outputs": [
    {
     "name": "stdout",
     "output_type": "stream",
     "text": [
      "+-------+\n",
      "|totally|\n",
      "+-------+\n",
      "|  45211|\n",
      "+-------+\n",
      "\n"
     ]
    }
   ],
   "source": [
    "df_b = spark.sql(\"select count(*) as totally from bank\")\n",
    "df_b.show()\n",
    "df_b.createOrReplaceTempView(\"tot\")"
   ]
  },
  {
   "cell_type": "code",
   "execution_count": 16,
   "id": "6d2ba076",
   "metadata": {},
   "outputs": [
    {
     "name": "stdout",
     "output_type": "stream",
     "text": [
      "+-----------------+\n",
      "|  failure_percent|\n",
      "+-----------------+\n",
      "|88.30151954170445|\n",
      "+-----------------+\n",
      "\n"
     ]
    }
   ],
   "source": [
    "df_finals = spark.sql(\"select (s.not_subscribed/t.totally)*100 as failure_percent from not s join tot t \")\n",
    "df_finals.show()"
   ]
  },
  {
   "cell_type": "code",
   "execution_count": 17,
   "id": "3f9a2d7b",
   "metadata": {},
   "outputs": [
    {
     "name": "stdout",
     "output_type": "stream",
     "text": [
      "+---+--------+\n",
      "|  y|count(y)|\n",
      "+---+--------+\n",
      "| no|   39922|\n",
      "|yes|    5289|\n",
      "+---+--------+\n",
      "\n"
     ]
    }
   ],
   "source": [
    "df3=spark.sql(\"select y, count(y) from bank group by y\")\n",
    "df3.show()"
   ]
  },
  {
   "cell_type": "code",
   "execution_count": 18,
   "id": "6f9ba04b",
   "metadata": {},
   "outputs": [
    {
     "name": "stdout",
     "output_type": "stream",
     "text": [
      "+--------+\n",
      "|max(age)|\n",
      "+--------+\n",
      "|      95|\n",
      "+--------+\n",
      "\n"
     ]
    }
   ],
   "source": [
    "df5 = spark.sql(\"select max(age) from bank\")\n",
    "df5.show()"
   ]
  },
  {
   "cell_type": "code",
   "execution_count": 19,
   "id": "0984ebe4",
   "metadata": {},
   "outputs": [
    {
     "name": "stdout",
     "output_type": "stream",
     "text": [
      "+--------+\n",
      "|min(age)|\n",
      "+--------+\n",
      "|      18|\n",
      "+--------+\n",
      "\n"
     ]
    }
   ],
   "source": [
    "df6 = spark.sql(\"select min(age) from bank\")\n",
    "df6.show()"
   ]
  },
  {
   "cell_type": "code",
   "execution_count": 20,
   "id": "e3e458c5",
   "metadata": {},
   "outputs": [
    {
     "name": "stdout",
     "output_type": "stream",
     "text": [
      "+-----------------+\n",
      "|         avg(age)|\n",
      "+-----------------+\n",
      "|40.93621021432837|\n",
      "+-----------------+\n",
      "\n"
     ]
    }
   ],
   "source": [
    "df7 = spark.sql(\"select avg(age) from bank\")\n",
    "df7.show()"
   ]
  },
  {
   "cell_type": "code",
   "execution_count": 21,
   "id": "d66fdf73",
   "metadata": {},
   "outputs": [
    {
     "name": "stdout",
     "output_type": "stream",
     "text": [
      "+------------------+\n",
      "|      avg(balance)|\n",
      "+------------------+\n",
      "|1362.2720576850766|\n",
      "+------------------+\n",
      "\n"
     ]
    }
   ],
   "source": [
    "df8 = spark.sql(\"select avg(balance) from bank\")\n",
    "df8.show()"
   ]
  },
  {
   "cell_type": "code",
   "execution_count": 22,
   "id": "46625319",
   "metadata": {},
   "outputs": [
    {
     "name": "stdout",
     "output_type": "stream",
     "text": [
      "+--------------------------------------+\n",
      "|percentile_approx(balance, 0.5, 10000)|\n",
      "+--------------------------------------+\n",
      "|                                 448.0|\n",
      "+--------------------------------------+\n",
      "\n"
     ]
    }
   ],
   "source": [
    "df9 = spark.sql(\"SELECT percentile_approx(balance, 0.5) FROM bank\")\n",
    "df9.show()"
   ]
  },
  {
   "cell_type": "code",
   "execution_count": 23,
   "id": "6ec27c1c",
   "metadata": {},
   "outputs": [
    {
     "name": "stdout",
     "output_type": "stream",
     "text": [
      "+---+------+\n",
      "|age|number|\n",
      "+---+------+\n",
      "| 32|   221|\n",
      "| 30|   217|\n",
      "| 33|   210|\n",
      "| 35|   209|\n",
      "| 31|   206|\n",
      "| 34|   198|\n",
      "| 36|   195|\n",
      "| 29|   171|\n",
      "| 37|   170|\n",
      "| 28|   162|\n",
      "| 38|   144|\n",
      "| 39|   143|\n",
      "| 27|   141|\n",
      "| 26|   134|\n",
      "| 41|   120|\n",
      "| 46|   118|\n",
      "| 40|   116|\n",
      "| 47|   113|\n",
      "| 25|   113|\n",
      "| 42|   111|\n",
      "+---+------+\n",
      "only showing top 20 rows\n",
      "\n"
     ]
    }
   ],
   "source": [
    "df10 = spark.sql(\"select age, count(*) as number from bank where y='yes' group by age order by number desc\")\n",
    "df10.show()"
   ]
  },
  {
   "cell_type": "code",
   "execution_count": 24,
   "id": "2cdbae3f",
   "metadata": {},
   "outputs": [
    {
     "name": "stdout",
     "output_type": "stream",
     "text": [
      "+---+------+\n",
      "|age|number|\n",
      "+---+------+\n",
      "| 32|   221|\n",
      "| 30|   217|\n",
      "| 33|   210|\n",
      "| 35|   209|\n",
      "| 31|   206|\n",
      "| 34|   198|\n",
      "| 36|   195|\n",
      "| 29|   171|\n",
      "| 37|   170|\n",
      "| 28|   162|\n",
      "| 38|   144|\n",
      "| 39|   143|\n",
      "| 27|   141|\n",
      "| 26|   134|\n",
      "| 41|   120|\n",
      "| 46|   118|\n",
      "| 40|   116|\n",
      "| 47|   113|\n",
      "| 25|   113|\n",
      "| 42|   111|\n",
      "+---+------+\n",
      "only showing top 20 rows\n",
      "\n"
     ]
    }
   ],
   "source": [
    "df11 = spark.sql(\"select age, count(*) as number from bank where y='yes' group by age order by number desc\")\n",
    "df11.show()\n"
   ]
  },
  {
   "cell_type": "code",
   "execution_count": 25,
   "id": "23509616",
   "metadata": {},
   "outputs": [
    {
     "name": "stdout",
     "output_type": "stream",
     "text": [
      "+--------+------+\n",
      "| marital|number|\n",
      "+--------+------+\n",
      "| married|  2755|\n",
      "|  single|  1912|\n",
      "|divorced|   622|\n",
      "+--------+------+\n",
      "\n"
     ]
    }
   ],
   "source": [
    "df12 = spark.sql(\"select marital, count(*) as number from bank where y='yes' group by marital order by number desc\")\n",
    "df12.show()"
   ]
  },
  {
   "cell_type": "code",
   "execution_count": 26,
   "id": "5faa4c76",
   "metadata": {},
   "outputs": [
    {
     "name": "stdout",
     "output_type": "stream",
     "text": [
      "+---+-------+------+\n",
      "|age|marital|number|\n",
      "+---+-------+------+\n",
      "| 30| single|   151|\n",
      "| 28| single|   138|\n",
      "| 29| single|   133|\n",
      "| 32| single|   124|\n",
      "| 26| single|   121|\n",
      "| 34|married|   118|\n",
      "| 31| single|   111|\n",
      "| 27| single|   110|\n",
      "| 35|married|   101|\n",
      "| 36|married|   100|\n",
      "| 25| single|    99|\n",
      "| 37|married|    98|\n",
      "| 33|married|    97|\n",
      "| 33| single|    97|\n",
      "| 32|married|    87|\n",
      "| 39|married|    87|\n",
      "| 38|married|    86|\n",
      "| 35| single|    84|\n",
      "| 47|married|    83|\n",
      "| 46|married|    80|\n",
      "+---+-------+------+\n",
      "only showing top 20 rows\n",
      "\n"
     ]
    }
   ],
   "source": [
    "df13 = spark.sql(\"select age, marital, count(*) as number from bank where y='yes' group by age,marital order by number desc\")\n",
    "df13.show()"
   ]
  },
  {
   "cell_type": "code",
   "execution_count": 27,
   "id": "b6e26ec6",
   "metadata": {},
   "outputs": [
    {
     "name": "stdout",
     "output_type": "stream",
     "text": [
      "+---+----------+\n",
      "|  y|subscribed|\n",
      "+---+----------+\n",
      "| no|     39922|\n",
      "|yes|      5289|\n",
      "+---+----------+\n",
      "\n"
     ]
    }
   ],
   "source": [
    "dff = spark.sql(\"select y, count(*) as subscribed from bank group by y\")\n",
    "dff.show()"
   ]
  },
  {
   "cell_type": "code",
   "execution_count": 32,
   "id": "98bdc632",
   "metadata": {},
   "outputs": [
    {
     "name": "stdout",
     "output_type": "stream",
     "text": [
      "+---+------------+--------+---------+-------+-------+-------+----+-------+---+-----+--------+--------+-----+--------+--------+---+-----------+\n",
      "|age|         job| marital|education|default|balance|housing|loan|contact|day|month|duration|campaign|pdays|previous|poutcome|  y|      agedf|\n",
      "+---+------------+--------+---------+-------+-------+-------+----+-------+---+-----+--------+--------+-----+--------+--------+---+-----------+\n",
      "| 58|  management| married| tertiary|     no|   2143|    yes|  no|unknown|  5|  may|     261|       1|   -1|       0| unknown| no|        Old|\n",
      "| 44|  technician|  single|secondary|     no|     29|    yes|  no|unknown|  5|  may|     151|       1|   -1|       0| unknown| no|Middle Aged|\n",
      "| 33|entrepreneur| married|secondary|     no|      2|    yes| yes|unknown|  5|  may|      76|       1|   -1|       0| unknown| no|        Old|\n",
      "| 47| blue-collar| married|  unknown|     no|   1506|    yes|  no|unknown|  5|  may|      92|       1|   -1|       0| unknown| no|Middle Aged|\n",
      "| 33|     unknown|  single|  unknown|     no|      1|     no|  no|unknown|  5|  may|     198|       1|   -1|       0| unknown| no|        Old|\n",
      "| 35|  management| married| tertiary|     no|    231|    yes|  no|unknown|  5|  may|     139|       1|   -1|       0| unknown| no|Middle Aged|\n",
      "| 28|  management|  single| tertiary|     no|    447|    yes| yes|unknown|  5|  may|     217|       1|   -1|       0| unknown| no|      Young|\n",
      "| 42|entrepreneur|divorced| tertiary|    yes|      2|    yes|  no|unknown|  5|  may|     380|       1|   -1|       0| unknown| no|Middle Aged|\n",
      "| 58|     retired| married|  primary|     no|    121|    yes|  no|unknown|  5|  may|      50|       1|   -1|       0| unknown| no|        Old|\n",
      "| 43|  technician|  single|secondary|     no|    593|    yes|  no|unknown|  5|  may|      55|       1|   -1|       0| unknown| no|Middle Aged|\n",
      "| 41|      admin.|divorced|secondary|     no|    270|    yes|  no|unknown|  5|  may|     222|       1|   -1|       0| unknown| no|Middle Aged|\n",
      "| 29|      admin.|  single|secondary|     no|    390|    yes|  no|unknown|  5|  may|     137|       1|   -1|       0| unknown| no|      Young|\n",
      "| 53|  technician| married|secondary|     no|      6|    yes|  no|unknown|  5|  may|     517|       1|   -1|       0| unknown| no|Middle Aged|\n",
      "| 58|  technician| married|  unknown|     no|     71|    yes|  no|unknown|  5|  may|      71|       1|   -1|       0| unknown| no|        Old|\n",
      "| 57|    services| married|secondary|     no|    162|    yes|  no|unknown|  5|  may|     174|       1|   -1|       0| unknown| no|        Old|\n",
      "| 51|     retired| married|  primary|     no|    229|    yes|  no|unknown|  5|  may|     353|       1|   -1|       0| unknown| no|Middle Aged|\n",
      "| 45|      admin.|  single|  unknown|     no|     13|    yes|  no|unknown|  5|  may|      98|       1|   -1|       0| unknown| no|Middle Aged|\n",
      "| 57| blue-collar| married|  primary|     no|     52|    yes|  no|unknown|  5|  may|      38|       1|   -1|       0| unknown| no|        Old|\n",
      "| 60|     retired| married|  primary|     no|     60|    yes|  no|unknown|  5|  may|     219|       1|   -1|       0| unknown| no|        Old|\n",
      "| 33|    services| married|secondary|     no|      0|    yes|  no|unknown|  5|  may|      54|       1|   -1|       0| unknown| no|        Old|\n",
      "+---+------------+--------+---------+-------+-------+-------+----+-------+---+-----+--------+--------+-----+--------+--------+---+-----------+\n",
      "only showing top 20 rows\n",
      "\n"
     ]
    }
   ],
   "source": [
    "from pyspark.sql.functions import lit\n",
    "from pyspark.sql.functions import when\n",
    "df.withColumn(\"agedf\", \\\n",
    "   when((df.age < 20), lit(\"Teen\")) \\\n",
    "     .when((df.age > 20) & (df.age <= 32), lit(\"Young\")) \\\n",
    "     .when((df.age > 33) & (df.age <= 55), lit(\"Middle Aged\")) \\\n",
    "     .otherwise(lit(\"Old\")) \\\n",
    "  ).show()"
   ]
  },
  {
   "cell_type": "code",
   "execution_count": null,
   "id": "dc504801",
   "metadata": {},
   "outputs": [],
   "source": []
  },
  {
   "cell_type": "code",
   "execution_count": null,
   "id": "b9a35250",
   "metadata": {},
   "outputs": [],
   "source": []
  }
 ],
 "metadata": {
  "kernelspec": {
   "display_name": "Python 3 (ipykernel)",
   "language": "python",
   "name": "python3"
  },
  "language_info": {
   "codemirror_mode": {
    "name": "ipython",
    "version": 3
   },
   "file_extension": ".py",
   "mimetype": "text/x-python",
   "name": "python",
   "nbconvert_exporter": "python",
   "pygments_lexer": "ipython3",
   "version": "3.9.12"
  }
 },
 "nbformat": 4,
 "nbformat_minor": 5
}
